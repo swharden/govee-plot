{
 "cells": [
  {
   "cell_type": "markdown",
   "metadata": {},
   "source": [
    "# Govee Wireless Temperature Sensor Analysis with Python\n",
    "\n",
    "This page documents my experiments using a pair of [Govee](https://govee.com/) Bluetooth thermometer/hygrometer devices to measure and compare temperature outside vs. in my attic. I can't find the exact product on the Govee website, but a Bluetooth sensor is available on Amazon for $15."
   ]
  },
  {
   "cell_type": "code",
   "execution_count": null,
   "metadata": {},
   "outputs": [],
   "source": [
    "import pandas as pd\n",
    "import numpy as np\n",
    "import datetime\n",
    "import matplotlib\n",
    "import matplotlib.pyplot as plt"
   ]
  },
  {
   "cell_type": "markdown",
   "metadata": {},
   "source": [
    "Let's start by creating a function to read Govee export files and return just temperature"
   ]
  },
  {
   "cell_type": "code",
   "execution_count": null,
   "metadata": {},
   "outputs": [],
   "source": [
    "def fToC(f):\n",
    "    \"\"\"Convert Fahrenheit to Celsius\"\"\"\n",
    "    return f - 32 * 5 / 9.\n",
    "\n",
    "def readTemperatureData(filename: str):\n",
    "    \"\"\"Read a Govee export file and return just temperature columns\"\"\"\n",
    "    name = filename.split(\".\")[0]\n",
    "    df = pd.read_csv(filename)\n",
    "    df[df.columns[0]] = [datetime.datetime.strptime(x, \"%Y-%m-%d %H:%M:%S\")\n",
    "                         for x in df[df.columns[0]].values]\n",
    "    df.drop(df.columns[2], axis=1, inplace=True)  # humidity column\n",
    "    df.columns = [f\"{name} Timestamp\", f\"{name} F\"]\n",
    "    return df\n"
   ]
  },
  {
   "cell_type": "markdown",
   "metadata": {},
   "source": [
    "Now let's load our data and compare the timestamps"
   ]
  },
  {
   "cell_type": "code",
   "execution_count": null,
   "metadata": {},
   "outputs": [],
   "source": [
    "outdoor = readTemperatureData(\"outdoor.csv\")\n",
    "attic = readTemperatureData(\"attic.csv\")\n",
    "df = pd.concat([attic, outdoor], axis=1)\n",
    "print(df)"
   ]
  },
  {
   "cell_type": "markdown",
   "metadata": {},
   "source": [
    "Excellent! They're already aligned. I tried to activate both sensors at the same time, and it looks like it worked. \n",
    "\n",
    "I'll trim the data so it starts and ends at midnight then remove the duplicate timestamp column."
   ]
  },
  {
   "cell_type": "code",
   "execution_count": null,
   "metadata": {},
   "outputs": [],
   "source": [
    "firstIndex = 285 + 60 * 24\n",
    "lastIndex = -718\n",
    "df = df.iloc[firstIndex:lastIndex, :]\n",
    "df.drop(columns=\"outdoor Timestamp\", inplace=True)\n",
    "df.columns = [\"Timestamp\", \"Attic (F)\", \"Outdoor (F)\"]\n",
    "print(df)\n"
   ]
  },
  {
   "cell_type": "code",
   "execution_count": null,
   "metadata": {},
   "outputs": [],
   "source": [
    "def twinTemperatureAxes(ax1):\n",
    "    \"\"\"Configure a figure to display temperature on both Y axes (F on left, C on right)\"\"\"\n",
    "    ax1.legend()\n",
    "    ax1.grid(alpha=.5, ls='--')\n",
    "    ax1.set_ylabel(\"Temperature (F)\", fontsize=16)\n",
    "\n",
    "    # setup secondary Y axis\n",
    "    ax2 = ax1.twinx()\n",
    "    ax2.set_ylabel(\"Temperature (C)\", fontsize=16)\n",
    "    ymin, ymax = ax1.get_ylim()\n",
    "    ax2.set_ylim((fToC(ymin), fToC(ymax)))\n",
    "    ax2.plot([], [])"
   ]
  },
  {
   "cell_type": "code",
   "execution_count": null,
   "metadata": {},
   "outputs": [],
   "source": [
    "fig, ax1 = plt.subplots(figsize=(10, 4))\n",
    "fig.autofmt_xdate()\n",
    "ax1.plot(df[\"Timestamp\"], df[\"Outdoor (F)\"], label=\"Outdoor\")\n",
    "ax1.plot(df[\"Timestamp\"], df[\"Attic (F)\"], label=\"Attic\")\n",
    "twinTemperatureAxes(ax1)\n",
    "fig.tight_layout()\n"
   ]
  },
  {
   "cell_type": "code",
   "execution_count": null,
   "metadata": {},
   "outputs": [],
   "source": [
    "maxOutdoorF = max(df[\"Outdoor (F)\"])\n",
    "maxAtticF = max(df[\"Attic (F)\"])\n",
    "print(f\"Maximum measured outdoor temperature: {maxOutdoorF} F ({fToC(maxOutdoorF):.01f} C)\")\n",
    "print(f\"Maximum measured attic temperature: {maxAtticF} F ({fToC(maxAtticF):.01f} C)\")"
   ]
  },
  {
   "cell_type": "markdown",
   "metadata": {},
   "source": [
    "Let's rearrange the time series data by segmenting it into days and overlapping it so we can get an impression of the typical day"
   ]
  },
  {
   "cell_type": "code",
   "execution_count": null,
   "metadata": {},
   "outputs": [],
   "source": [
    "xs = np.arange(60*24) / 60  # hours\n",
    "\n",
    "fig, ax1 = plt.subplots(figsize=(6, 4))\n",
    "\n",
    "days = df.groupby(df[\"Timestamp\"].dt.date)\n",
    "for i, dailyTemperatures in enumerate(days[\"Outdoor (F)\"]):\n",
    "    plt.plot(xs, dailyTemperatures[1].values, color='C0', alpha=.5)\n",
    "for i, dailyTemperatures in enumerate(days[\"Attic (F)\"]):\n",
    "    plt.plot(xs, dailyTemperatures[1].values, color='C1', alpha=.5)\n",
    "\n",
    "twinTemperatureAxes(ax1)\n",
    "ax1.grid(alpha=.5, ls='--')\n",
    "ax1.set_xlabel(\"Time of Day (Hour)\", fontsize=16)"
   ]
  },
  {
   "cell_type": "markdown",
   "metadata": {},
   "source": [
    "I'm curious to know what the difference is between the outdoor and attic temperatures..."
   ]
  },
  {
   "cell_type": "code",
   "execution_count": null,
   "metadata": {},
   "outputs": [],
   "source": [
    "fig, ax1 = plt.subplots(figsize=(6, 4))\n",
    "\n",
    "days = df.groupby(df[\"Timestamp\"].dt.date)\n",
    "valuesAttic = np.ndarray((len(days), 60*24))\n",
    "valuesOutdoor = np.ndarray((len(days), 60*24))\n",
    "for i, dailyTemperatures in enumerate(days[\"Attic (F)\"]):\n",
    "    valuesAttic[i] = dailyTemperatures[1].values\n",
    "for i, dailyTemperatures in enumerate(days[\"Outdoor (F)\"]):\n",
    "    valuesOutdoor[i] = dailyTemperatures[1].values\n",
    "\n",
    "diffsByDay = valuesAttic - valuesOutdoor\n",
    "for i in range(len(days)):\n",
    "    plt.plot(xs, diffsByDay[i,:], color='C3', alpha=.5)\n",
    "\n",
    "ax1.grid(alpha=.5, ls='--')\n",
    "ax1.set_xlabel(\"Time of Day (Hour)\", fontsize=16)\n",
    "ax1.set_ylabel(\"Difference (F)\")\n",
    "ax1.grid(alpha=.5, ls='--')\n",
    "fig.tight_layout()"
   ]
  },
  {
   "cell_type": "markdown",
   "metadata": {},
   "source": [
    "It appears that the attic maximally exceeds the outdoor temperature near 3PM. Let's take a closer look at the daily maximum difference between the attic and outdoor temperatures..."
   ]
  },
  {
   "cell_type": "code",
   "execution_count": null,
   "metadata": {},
   "outputs": [],
   "source": [
    "peakDiffsByDay = np.max(diffsByDay, axis=1)\n",
    "plt.plot(peakDiffsByDay, '.-', color=\"C3\")\n",
    "plt.ylabel(\"Peak Difference (F)\")\n",
    "plt.xlabel(\"Day (#)\")\n",
    "plt.grid(alpha=.5, ls='--')\n",
    "\n",
    "meanDiffF = np.mean(peakDiffsByDay)\n",
    "peakDiffF = np.max(peakDiffsByDay)\n",
    "print(f\"Mean daily peak difference: {meanDiffF:.1f} ({fToC(meanDiffF):.1f} C)\")\n",
    "print(f\"Maximum daily peak difference: {peakDiffF:.1f} ({fToC(peakDiffF):.1f} C)\")"
   ]
  },
  {
   "cell_type": "markdown",
   "metadata": {},
   "source": [
    "Let's try to identify days it rained vs. days it didn't based on the mean daily temperature"
   ]
  },
  {
   "cell_type": "code",
   "execution_count": null,
   "metadata": {},
   "outputs": [],
   "source": [
    "xs = np.arange(60*24) / 60\n",
    "\n",
    "for series in df.groupby(df[\"Timestamp\"].dt.date)[\"Outdoor (F)\"]:\n",
    "    plt.plot(xs, series[1].values, color=\"C0\", alpha=.5)\n",
    "\n",
    "for series in df.groupby(df[\"Timestamp\"].dt.date)[\"Attic (F)\"]:\n",
    "    plt.plot(xs, series[1].values, color=\"C1\", alpha=.5)\n",
    "    \n",
    "twinTemperatureAxes(plt.gca())\n",
    "plt.xlabel(\"Time of Day (Hour)\")\n"
   ]
  },
  {
   "cell_type": "code",
   "execution_count": null,
   "metadata": {},
   "outputs": [],
   "source": [
    "def plotMeanByDay(column, label, color):\n",
    "    days = df.groupby(df[\"Timestamp\"].dt.date)\n",
    "    values = np.ndarray((len(days), 60*24))\n",
    "    for i, dailyTemperatures in enumerate(days[column]):\n",
    "        values[i] = dailyTemperatures[1].values\n",
    "    mean = np.mean(values, axis=0)\n",
    "    err = np.std(values, axis=0)\n",
    "    xs = np.arange(60*24) / 60\n",
    "    plt.plot(xs, mean, label=label, color=color)\n",
    "    plt.fill_between(xs, mean - err, mean + err, color=color, alpha=.3)\n",
    "\n",
    "plotMeanByDay(\"Outdoor (F)\", \"Outdoor\", \"C0\")\n",
    "plotMeanByDay(\"Attic (F)\", \"Attic\", \"C1\")\n",
    "twinTemperatureAxes(plt.gca())\n",
    "plt.xlabel(\"Time of Day (Hour)\")\n"
   ]
  },
  {
   "cell_type": "markdown",
   "metadata": {},
   "source": [
    "Let's plot one against the other to see how tightly correlated they are. I suspect changes in the attic temperature will lag the outdoor temperature due to its large thermal mass resulting in some type of hysteresis."
   ]
  },
  {
   "cell_type": "code",
   "execution_count": null,
   "metadata": {},
   "outputs": [],
   "source": [
    "def plotDailyComparisons():\n",
    "    \"\"\"Plot each day's attic vs. outdoor temperature as a light gray line\"\"\"\n",
    "    days = df.groupby(df[\"Timestamp\"].dt.date)\n",
    "    valuesAttic = np.ndarray((len(days), 60*24))\n",
    "    valuesOutdoor = np.ndarray((len(days), 60*24))\n",
    "    for i, dailyTemperatures in enumerate(days[\"Attic (F)\"]):\n",
    "        valuesAttic[i] = dailyTemperatures[1].values\n",
    "    for i, dailyTemperatures in enumerate(days[\"Outdoor (F)\"]):\n",
    "        valuesOutdoor[i] = dailyTemperatures[1].values\n",
    "    for i in range(len(valuesAttic)):\n",
    "        plt.plot(valuesOutdoor[i, :], valuesAttic[i, :], color='.7', alpha=.5)\n",
    "\n",
    "\n",
    "def getMeanValuesByDay(column):\n",
    "    \"\"\"Return mean temperature for each minute in a day\"\"\"\n",
    "    days = df.groupby(df[\"Timestamp\"].dt.date)\n",
    "    values = np.ndarray((len(days), 60*24))\n",
    "    for i, dailyTemperatures in enumerate(days[column]):\n",
    "        values[i] = dailyTemperatures[1].values\n",
    "    return np.mean(values, axis=0)\n",
    "\n",
    "\n",
    "def plotDailyMeanComparison():\n",
    "    \"\"\"Plot the daily mean attic vs. daily mean outdoor temperature\"\"\"\n",
    "    meanOutdoor = getMeanValuesByDay(\"Outdoor (F)\")\n",
    "    meanAttic = getMeanValuesByDay(\"Attic (F)\")\n",
    "    plt.plot(meanOutdoor, meanAttic, color='k')\n",
    "\n",
    "\n",
    "plotDailyComparisons()\n",
    "plotDailyMeanComparison()\n",
    "plt.ylabel(\"Mean Attic Temperature (F)\")\n",
    "plt.xlabel(\"Mean Outdoor Temperature (F)\")\n",
    "plt.grid(alpha=.5, ls='--')\n"
   ]
  },
  {
   "cell_type": "markdown",
   "metadata": {},
   "source": [
    "Let's add color to encode time of day"
   ]
  },
  {
   "cell_type": "code",
   "execution_count": null,
   "metadata": {},
   "outputs": [],
   "source": [
    "sp = plt.scatter(\n",
    "    x=getMeanValuesByDay(\"Outdoor (F)\"),\n",
    "    y=getMeanValuesByDay(\"Attic (F)\"),\n",
    "    c=[x/60 for x in range(60*24)])\n",
    "\n",
    "cb = plt.colorbar()\n",
    "cb.ax.locator_params(nbins=12)\n",
    "cb.set_label(label='Time of Day (Hour)')\n",
    "\n",
    "plt.ylabel(\"Mean Attic Temperature (F)\")\n",
    "plt.xlabel(\"Mean Outdoor Temperature (F)\")\n",
    "plt.grid(alpha=.5, ls='--')\n"
   ]
  },
  {
   "cell_type": "markdown",
   "metadata": {},
   "source": [
    "Notice each day starts near the lower-left (dark blue) and forms a clockwise rotation each day. The shape is a circle instead of a straight line because the attic temperature always lags the outdoor temperature, especially when the temperature is changing quickly at the upper right near hour 15 (3PM)."
   ]
  },
  {
   "cell_type": "markdown",
   "metadata": {},
   "source": []
  }
 ],
 "metadata": {
  "kernelspec": {
   "display_name": "Python 3.9.5 64-bit",
   "language": "python",
   "name": "python3"
  },
  "language_info": {
   "codemirror_mode": {
    "name": "ipython",
    "version": 3
   },
   "file_extension": ".py",
   "mimetype": "text/x-python",
   "name": "python",
   "nbconvert_exporter": "python",
   "pygments_lexer": "ipython3",
   "version": "3.9.5"
  },
  "orig_nbformat": 4,
  "vscode": {
   "interpreter": {
    "hash": "7036c97a19c395f990150d2191d95cb0b15bafc44a51c61e79499b778f47a5df"
   }
  }
 },
 "nbformat": 4,
 "nbformat_minor": 2
}
